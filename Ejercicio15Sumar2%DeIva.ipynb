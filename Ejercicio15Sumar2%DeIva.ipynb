{
 "cells": [
  {
   "cell_type": "code",
   "execution_count": 6,
   "metadata": {},
   "outputs": [
    {
     "name": "stdout",
     "output_type": "stream",
     "text": [
      "[('Rusia', 12.24), ('Espania', 21.42), ('Chipre', 15.3)]\n"
     ]
    }
   ],
   "source": [
    "print(sc.parallelize(([('Rusia',12),('Espania',21),('Chipre',15)]))\\\n",
    "    .mapValues(lambda x: x+((x*2)/100)).collect())\n"
   ]
  }
 ],
 "metadata": {
  "kernelspec": {
   "display_name": "Python 3",
   "language": "python",
   "name": "python3"
  },
  "language_info": {
   "codemirror_mode": {
    "name": "ipython",
    "version": 3
   },
   "file_extension": ".py",
   "mimetype": "text/x-python",
   "name": "python",
   "nbconvert_exporter": "python",
   "pygments_lexer": "ipython3",
   "version": "3.7.0"
  }
 },
 "nbformat": 4,
 "nbformat_minor": 2
}
