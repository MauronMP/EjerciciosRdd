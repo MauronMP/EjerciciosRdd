{
 "cells": [
  {
   "cell_type": "code",
   "execution_count": 49,
   "metadata": {},
   "outputs": [
    {
     "name": "stdout",
     "output_type": "stream",
     "text": [
      "+--------------+-------------+----+\n",
      "|          name|totalMedallas|edad|\n",
      "+--------------+-------------+----+\n",
      "|    Usain Bolt|            4|  22|\n",
      "|Michael Phepls|            4|  22|\n",
      "+--------------+-------------+----+\n",
      "\n"
     ]
    }
   ],
   "source": [
    "from pyspark.sql import Row\n",
    "\n",
    "def funcionRdd(line):\n",
    "    f = line.split(\",\")\n",
    "    return f\n",
    "def funcionDF(x):\n",
    "    return ( Row(name=x[0], medallas=x[1],edad=int(x[2]),\\\n",
    "    año=int(x[3]) ) )\n",
    "\n",
    "deportistasConIndices=sc.textFile('ficheroEjercicio22.csv').map(funcionRdd)\\\n",
    ".map(funcionDF).collect()\n",
    "\n",
    "deportistasDataFrame=sqlContext.createDataFrame(deportistasConIndices)\n",
    "sqlContext.registerDataFrameAsTable(deportistasDataFrame,\"deportistas\")\n",
    "deportistasDataFrame.registerTempTable(\"deportistas\")\n",
    "\n",
    "busquedaMedallas=sqlContext.sql(\"Select name,count(medallas) \\\n",
    "as totalMedallas,edad \\\n",
    "from deportistas where edad=22 group By edad,name \")\n",
    "busquedaMedallas.show()\n"
   ]
  }
 ],
 "metadata": {
  "kernelspec": {
   "display_name": "Python 3",
   "language": "python",
   "name": "python3"
  }
 },
 "nbformat": 4,
 "nbformat_minor": 2
}
