{
 "cells": [
  {
   "cell_type": "code",
   "execution_count": 23,
   "metadata": {},
   "outputs": [
    {
     "name": "stdout",
     "output_type": "stream",
     "text": [
      "[(1999, -12), (2012, -6)]\n"
     ]
    }
   ],
   "source": [
    "#Devolver Temperaturas bajo 0\n",
    "print(sc.parallelize([(1999,-12),(1888,10),(2012,-6),(1967,12)])\\\n",
    "     .filter(lambda x: x[1] < 0).collect())"
   ]
  },
  {
   "cell_type": "code",
   "execution_count": 42,
   "metadata": {},
   "outputs": [
    {
     "name": "stdout",
     "output_type": "stream",
     "text": [
      "[(10967, -18), (2012, -17), (1888, -16)]\n"
     ]
    }
   ],
   "source": [
    "#Devolver tres temperaturas más bajas\n",
    "print(sc.parallelize([(1999,-12),(1939,-13),(1999,-14),(1999,-15),\\\n",
    "                      (1888,-16),(2012,-17),(10967,-18)])\\\n",
    "    .takeOrdered(3, key=lambda x: x[1]))\n"
   ]
  },
  {
   "cell_type": "code",
   "execution_count": 48,
   "metadata": {},
   "outputs": [
    {
     "name": "stdout",
     "output_type": "stream",
     "text": [
      "[(1999, -14), (1999, -15), (1888, -16)]\n"
     ]
    }
   ],
   "source": [
    "#Devolver tres temperaturas más altas bajo cero\n",
    "print(sc.parallelize([(1999,12),(1939,13),(1999,-14),(1999,-15),\\\n",
    "                      (1888,-16),(2012,-17),(10967,-18)])\\\n",
    "    .top(3, key=lambda x: x[1] < 0 ))\n"
   ]
  },
  {
   "cell_type": "code",
   "execution_count": null,
   "metadata": {},
   "outputs": [],
   "source": []
  }
 ],
 "metadata": {
  "kernelspec": {
   "display_name": "Python 3",
   "language": "python",
   "name": "python3"
  },
  "language_info": {
   "codemirror_mode": {
    "name": "ipython",
    "version": 3
   },
   "file_extension": ".py",
   "mimetype": "text/x-python",
   "name": "python",
   "nbconvert_exporter": "python",
   "pygments_lexer": "ipython3",
   "version": "3.7.0"
  }
 },
 "nbformat": 4,
 "nbformat_minor": 2
}
