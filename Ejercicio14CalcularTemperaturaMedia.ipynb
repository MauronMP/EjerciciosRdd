{
 "cells": [
  {
   "cell_type": "code",
   "execution_count": 41,
   "metadata": {},
   "outputs": [
    {
     "name": "stdout",
     "output_type": "stream",
     "text": [
      "-8.333333333333334\n"
     ]
    }
   ],
   "source": [
    "def FuncionCalcularMediaTemperaturas():\n",
    "    a=0\n",
    "    b=0\n",
    "    for x in temperaturas:\n",
    "        a=a+x[1]\n",
    "        b=b+1\n",
    "    print(a/b)\n",
    "temperaturas=sc.parallelize(([('Rusia',-10),('España',5),('Chipre',-20)]))\\\n",
    "    .collect()\n",
    "FuncionCalcularMediaTemperaturas()"
   ]
  }
 ],
 "metadata": {
  "kernelspec": {
   "display_name": "Python 3",
   "language": "python",
   "name": "python3"
  },
  "language_info": {
   "codemirror_mode": {
    "name": "ipython",
    "version": 3
   },
   "file_extension": ".py",
   "mimetype": "text/x-python",
   "name": "python",
   "nbconvert_exporter": "python",
   "pygments_lexer": "ipython3",
   "version": "3.7.0"
  }
 },
 "nbformat": 4,
 "nbformat_minor": 2
}
