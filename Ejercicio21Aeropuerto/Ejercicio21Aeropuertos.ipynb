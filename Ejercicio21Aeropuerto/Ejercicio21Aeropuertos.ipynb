{
 "cells": [
  {
   "cell_type": "code",
   "execution_count": 25,
   "metadata": {},
   "outputs": [
    {
     "name": "stdout",
     "output_type": "stream",
     "text": [
      "+-------+-------+----+\n",
      "|country|   name|city|\n",
      "+-------+-------+----+\n",
      "| España| ElPrat| BCN|\n",
      "| España|ElPratu| GRN|\n",
      "+-------+-------+----+\n",
      "\n",
      "+-------+-------+\n",
      "|   name|altitud|\n",
      "+-------+-------+\n",
      "| ElPrat|     45|\n",
      "|ElPratu|     50|\n",
      "+-------+-------+\n",
      "\n"
     ]
    }
   ],
   "source": [
    "from pyspark.sql import Row\n",
    "\n",
    "def funcionRdd(line):\n",
    "    f = line.split(\",\")\n",
    "    return f\n",
    "def funcionDF(x):\n",
    "    return ( Row(ID=int(x[0]), name=x[1], city=x[2],country=x[3],\\\n",
    "    latitud=int(x[4]), altitud=int(x[5]), longitud=int(x[6]), horario=int(x[7]) ) )\n",
    "\n",
    "aeropuertoConIndices=sc.textFile('ficheroEjercicio21.csv').map(funcionRdd)\\\n",
    ".map(funcionDF).collect()\n",
    "\n",
    "aeropuertoDataFrame=sqlContext.createDataFrame(aeropuertoConIndices)\n",
    "sqlContext.registerDataFrameAsTable(aeropuertoDataFrame,\"aeropuerto\")\n",
    "aeropuertoDataFrame.registerTempTable(\"aeropuerto\")\n",
    "\n",
    "busquedaEspania=sqlContext.sql(\"Select country,name,city from aeropuerto where country='España'\")\n",
    "busquedaEspania.show()\n",
    "busquedaEspania.write.csv('aeropuertosEspaña.csv')\n",
    "\n",
    "busquedaLatitud=sqlContext.sql(\"Select name,altitud from aeropuerto where altitud > 40\")\n",
    "busquedaLatitud.show()\n",
    "busquedaLatitud.write.csv('aeropuertosLatitud.csv')\n"
   ]
  }
 ],
 "metadata": {
  "kernelspec": {
   "display_name": "Python 3",
   "language": "python",
   "name": "python3"
  }
 },
 "nbformat": 4,
 "nbformat_minor": 2
}
