{
 "cells": [
  {
   "cell_type": "code",
   "execution_count": null,
   "metadata": {},
   "outputs": [],
   "source": [
    "#Cº a Fahrenheit\n",
    "print(sc.parallelize([(1999,32),(1888,10),(2012,-6),(10967,12)])\\\n",
    ".mapValues(lambda x: (x*(9/5))+32).collect())\n",
    "#Fahrenheit a Celsius\n",
    "print(sc.parallelize([(1999,77),(1888,68),(2012,59),(10967,14)])\\\n",
    ".mapValues(lambda x: ((x-32)*(5/9))).collect())"
   ]
  },
  {
   "cell_type": "code",
   "execution_count": null,
   "metadata": {},
   "outputs": [],
   "source": []
  },
  {
   "cell_type": "code",
   "execution_count": null,
   "metadata": {},
   "outputs": [],
   "source": []
  }
 ],
 "metadata": {
  "kernelspec": {
   "display_name": "Python 3",
   "language": "python",
   "name": "python3"
  }
 },
 "nbformat": 4,
 "nbformat_minor": 2
}
