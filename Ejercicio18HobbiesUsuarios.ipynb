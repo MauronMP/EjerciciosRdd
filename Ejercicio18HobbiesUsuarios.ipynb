{
 "cells": [
  {
   "cell_type": "code",
   "execution_count": 5,
   "metadata": {},
   "outputs": [
    {
     "data": {
      "text/plain": [
       "[(0, ('Jordi', 'Ipv6')),\n",
       " (0, ('Jordi', 'Ipv4')),\n",
       " (2, ('Antonio', 'Bash')),\n",
       " (1, ('Pedro', None))]"
      ]
     },
     "execution_count": 5,
     "metadata": {},
     "output_type": "execute_result"
    }
   ],
   "source": [
    "usuarios=sc.parallelize([(0,'Jordi'),(1,'Pedro'),(2,'Antonio')])\n",
    "aficiones=sc.parallelize([(0,'Ipv6'),(0,'Ipv4'),(2,'Bash')])\n",
    "\n",
    "usuarios.fullOuterJoin(aficiones)\\\n",
    ".collect()"
   ]
  },
  {
   "cell_type": "code",
   "execution_count": 7,
   "metadata": {},
   "outputs": [
    {
     "data": {
      "text/plain": [
       "['Jordi aficionado a Ipv6',\n",
       " 'Jordi aficionado a Ipv4',\n",
       " 'Antonio aficionado a Bash']"
      ]
     },
     "execution_count": 7,
     "metadata": {},
     "output_type": "execute_result"
    }
   ],
   "source": [
    "usuarios=sc.parallelize([(0,'Jordi'),(1,'Pedro'),(2,'Antonio')])\n",
    "aficiones=sc.parallelize([(0,'Ipv6'),(0,'Ipv4'),(2,'Bash')])\n",
    "\n",
    "usuarios.join(aficiones)\\\n",
    ".map(lambda x: x[1][0]+ \" aficionado a \" +x[1][1])\\\n",
    ".collect()\n"
   ]
  }
 ],
 "metadata": {
  "kernelspec": {
   "display_name": "Python 3",
   "language": "python",
   "name": "python3"
  },
  "language_info": {
   "codemirror_mode": {
    "name": "ipython",
    "version": 3
   },
   "file_extension": ".py",
   "mimetype": "text/x-python",
   "name": "python",
   "nbconvert_exporter": "python",
   "pygments_lexer": "ipython3",
   "version": "3.7.0"
  }
 },
 "nbformat": 4,
 "nbformat_minor": 2
}
