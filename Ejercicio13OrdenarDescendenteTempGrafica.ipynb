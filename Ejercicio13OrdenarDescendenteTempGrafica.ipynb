{
 "cells": [
  {
   "cell_type": "code",
   "execution_count": 108,
   "metadata": {},
   "outputs": [
    {
     "data": {
      "text/plain": [
       "<matplotlib.axes._subplots.AxesSubplot at 0x7f71c015f9e8>"
      ]
     },
     "execution_count": 108,
     "metadata": {},
     "output_type": "execute_result"
    },
    {
     "data": {
      "image/png": "[encoded data removed]",
      "text/plain": [
       "<Figure size 432x288 with 1 Axes>"
      ]
     },
     "metadata": {
      "needs_background": "light"
     },
     "output_type": "display_data"
    }
   ],
   "source": [
    "from pyspark.sql import Row\n",
    "temperaturas=sc.parallelize(([(1999,-10),(1939,-9),(1999,-8),(1999,-7),(1888,1),(2012,10),(1967,20)]))\\\n",
    "    .sortBy(lambda pair: pair[1], ascending=False)\\\n",
    "    .map(lambda x: Row(year=int(x[0]), temp=int(x[1])) ).collect()\n",
    "graficaTemp= sqlContext.createDataFrame(temperaturas)\n",
    "graficaTemp.toPandas().plot(kind=\"bar\",x='year',y='temp')\n",
    "\n"
   ]
  }
 ],
 "metadata": {
  "kernelspec": {
   "display_name": "Python 3",
   "language": "python",
   "name": "python3"
  },
  "language_info": {
   "codemirror_mode": {
    "name": "ipython",
    "version": 3
   },
   "file_extension": ".py",
   "mimetype": "text/x-python",
   "name": "python",
   "nbconvert_exporter": "python",
   "pygments_lexer": "ipython3",
   "version": "3.7.0"
  }
 },
 "nbformat": 4,
 "nbformat_minor": 2
}
