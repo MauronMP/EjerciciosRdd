{
 "cells": [
  {
   "cell_type": "code",
   "execution_count": 229,
   "metadata": {},
   "outputs": [
    {
     "name": "stdout",
     "output_type": "stream",
     "text": [
      "[('tiene', 1), ('un', 1), ('gato', 2), ('llamado', 1), ('y', 1), ('el', 1), ('es', 1), ('de', 1)]\n"
     ]
    }
   ],
   "source": [
    "palabrasProhibidas=sc.parallelize(['Jordi','Palet','Ipv6'])\\\n",
    ".collect()\n",
    "print(sc.textFile('ficheroEjercicio16.txt')\\\n",
    "        .flatMap(lambda palabra: palabra.split(' '))\\\n",
    "        .filter(lambda y: y not in palabrasProhibidas)\\\n",
    "        .map(lambda y: (y,1))\\\n",
    "        .reduceByKey(lambda a, b: a + b).collect())"
   ]
  }
 ],
 "metadata": {
  "kernelspec": {
   "display_name": "Python 3",
   "language": "python",
   "name": "python3"
  },
  "language_info": {
   "codemirror_mode": {
    "name": "ipython",
    "version": 3
   },
   "file_extension": ".py",
   "mimetype": "text/x-python",
   "name": "python",
   "nbconvert_exporter": "python",
   "pygments_lexer": "ipython3",
   "version": "3.7.0"
  }
 },
 "nbformat": 4,
 "nbformat_minor": 2
}
