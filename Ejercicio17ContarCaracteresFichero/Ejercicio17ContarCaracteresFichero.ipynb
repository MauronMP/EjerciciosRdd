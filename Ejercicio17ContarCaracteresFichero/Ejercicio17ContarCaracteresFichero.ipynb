{
 "cells": [
  {
   "cell_type": "code",
   "execution_count": 21,
   "metadata": {},
   "outputs": [
    {
     "name": "stdout",
     "output_type": "stream",
     "text": [
      "39\n",
      "['E', 'l', 'g', 'a', 't', 'o', 'i', 'b', 'a', 'h', 'a', 'c', 'i', 'a', 's', 'u', 'd', 'o', 'r', 'm', 'i', 't', 'o', 'r', 'i', 'o', 'p', 'a', 'r', 'a', 'd', 'e', 's', 'c', 'a', 'n', 's', 'a', 'r']\n"
     ]
    }
   ],
   "source": [
    "print(sc.textFile('ficheroEjercicio17.txt')\\\n",
    "        .flatMap(lambda palabra: palabra.split())\\\n",
    "        .flatMap(lambda palabra: [(c) for c in palabra])\\\n",
    "        .count())\n",
    "\n",
    "print(sc.textFile('ficheroEjercicio17.txt')\\\n",
    "        .flatMap(lambda palabra: palabra.split())\\\n",
    "        .flatMap(lambda palabra: [(c) for c in palabra])\\\n",
    "        .collect())"
   ]
  }
 ],
 "metadata": {
  "kernelspec": {
   "display_name": "Python 3",
   "language": "python",
   "name": "python3"
  },
  "language_info": {
   "codemirror_mode": {
    "name": "ipython",
    "version": 3
   },
   "file_extension": ".py",
   "mimetype": "text/x-python",
   "name": "python",
   "nbconvert_exporter": "python",
   "pygments_lexer": "ipython3",
   "version": "3.7.0"
  }
 },
 "nbformat": 4,
 "nbformat_minor": 2
}
