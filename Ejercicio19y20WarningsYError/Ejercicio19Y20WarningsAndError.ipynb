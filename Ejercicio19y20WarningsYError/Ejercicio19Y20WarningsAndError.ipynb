{
 "cells": [
  {
   "cell_type": "code",
   "execution_count": 40,
   "metadata": {},
   "outputs": [
    {
     "name": "stdout",
     "output_type": "stream",
     "text": [
      "[['Warning', 'Error del sistema'], ['Warning', 'Error al cargar el fichero']]\n",
      "Cantidad de warnings 2\n",
      "\n",
      "[['Error', 'No se ha introducido bien la contraseña'], ['Error', 'No se ha introducido bien el usuario'], ['Error', 'Ldap_add(68)file already exists']]\n",
      "Cantidad de error 3\n"
     ]
    }
   ],
   "source": [
    "from pyspark.sql import Row\n",
    "def funcionRdd(line):\n",
    "    f = line.split(\":\")\n",
    "    return f\n",
    "warnings=sc.textFile('ficheroEjercicio19y20.txt').map(funcionRdd)\\\n",
    ".filter(lambda x: x[0]==\"Warning\")\n",
    "print(warnings.collect())\n",
    "print(\"Cantidad de warnings\",warnings.count())\n",
    "print(\"\")\n",
    "error=sc.textFile('ficheroEjercicio19y20.txt').map(funcionRdd)\\\n",
    ".filter(lambda x: x[0]==\"Error\")\n",
    "print(error.collect())\n",
    "print(\"Cantidad de error\",error.count())\n"
   ]
  }
 ],
 "metadata": {
  "kernelspec": {
   "display_name": "Python 3",
   "language": "python",
   "name": "python3"
  },
  "language_info": {
   "codemirror_mode": {
    "name": "ipython",
    "version": 3
   },
   "file_extension": ".py",
   "mimetype": "text/x-python",
   "name": "python",
   "nbconvert_exporter": "python",
   "pygments_lexer": "ipython3",
   "version": "3.7.0"
  }
 },
 "nbformat": 4,
 "nbformat_minor": 2
}
