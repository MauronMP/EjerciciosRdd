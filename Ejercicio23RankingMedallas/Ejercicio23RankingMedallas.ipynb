{
 "cells": [
  {
   "cell_type": "code",
   "execution_count": 48,
   "metadata": {},
   "outputs": [
    {
     "name": "stdout",
     "output_type": "stream",
     "text": [
      "+---------------+-------------+--------+\n",
      "|           name|totalMedallas|medallas|\n",
      "+---------------+-------------+--------+\n",
      "| Michael Phepls|            4|     oro|\n",
      "|Larisa Latynina|            3|     oro|\n",
      "|     Usain Bolt|            2|     oro|\n",
      "+---------------+-------------+--------+\n",
      "\n",
      "+---------------+-------------+--------+\n",
      "|           name|totalMedallas|medallas|\n",
      "+---------------+-------------+--------+\n",
      "| Michael Phepls|            3|  bronce|\n",
      "|Larisa Latynina|            2|  bronce|\n",
      "|     Usain Bolt|            1|  bronce|\n",
      "| Michael Phepls|            4|     oro|\n",
      "|Larisa Latynina|            3|     oro|\n",
      "|     Usain Bolt|            2|     oro|\n",
      "|     Usain Bolt|            5|   plata|\n",
      "|Larisa Latynina|            3|   plata|\n",
      "| Michael Phepls|            1|   plata|\n",
      "+---------------+-------------+--------+\n",
      "\n"
     ]
    }
   ],
   "source": [
    "from pyspark.sql import Row\n",
    "\n",
    "def funcionRdd(line):\n",
    "    f = line.split(\",\")\n",
    "    return f\n",
    "def funcionDF(x):\n",
    "    return ( Row(name=x[0], medallas=x[1],edad=int(x[2]),\\\n",
    "    año=int(x[3]) ) )\n",
    "\n",
    "deportistasConIndices=sc.textFile('ficheroEjercicio23.csv').map(funcionRdd)\\\n",
    ".map(funcionDF).collect()\n",
    "\n",
    "deportistasDataFrame=sqlContext.createDataFrame(deportistasConIndices)\n",
    "sqlContext.registerDataFrameAsTable(deportistasDataFrame,\"deportistas\")\n",
    "deportistasDataFrame.registerTempTable(\"deportistas\")\n",
    "\n",
    "busquedaMedallasEspecifica=sqlContext.sql(\"Select name,count(medallas) \\\n",
    "as totalMedallas,medallas \\\n",
    "from deportistas where medallas='oro' group By name,medallas order By count(medallas) DESC\")\n",
    "busquedaMedallasEspecifica.show()\n",
    "\n",
    "\n",
    "busquedaMedallasGeneral=sqlContext.sql(\"Select name,count(medallas) \\\n",
    "as totalMedallas,medallas \\\n",
    "from deportistas group By name,medallas order By medallas,count(medallas) DESC\")\n",
    "busquedaMedallasGeneral.show()\n"
   ]
  }
 ],
 "metadata": {
  "kernelspec": {
   "display_name": "Python 3",
   "language": "python",
   "name": "python3"
  },
  "language_info": {
   "codemirror_mode": {
    "name": "ipython",
    "version": 3
   },
   "file_extension": ".py",
   "mimetype": "text/x-python",
   "name": "python",
   "nbconvert_exporter": "python",
   "pygments_lexer": "ipython3",
   "version": "3.7.0"
  }
 },
 "nbformat": 4,
 "nbformat_minor": 2
}
