{
 "cells": [
  {
   "cell_type": "code",
   "execution_count": 34,
   "metadata": {},
   "outputs": [
    {
     "name": "stdout",
     "output_type": "stream",
     "text": [
      "0 Es par\n",
      "8 Es par\n",
      "8 Es par\n",
      "8 Es par\n"
     ]
    }
   ],
   "source": [
    "#import pandas as pd\n",
    "def FuncionIndicarNumeroRddPar():\n",
    "    for x in numerosCubo:\n",
    "        if (x % 2==0):\n",
    "            print(x,\"Es par\")\n",
    "numerosCubo=sc.parallelize(([3,0,2,2,3,1,2])).map(lambda x:(x*x*x)).collect()\n",
    "FuncionIndicarNumeroRddPar()\n",
    "#pd.Series(numerosCubo).plot(kind=\"bar\")"
   ]
  },
  {
   "cell_type": "code",
   "execution_count": null,
   "metadata": {},
   "outputs": [],
   "source": []
  }
 ],
 "metadata": {
  "kernelspec": {
   "display_name": "Python 3",
   "language": "python",
   "name": "python3"
  },
  "language_info": {
   "codemirror_mode": {
    "name": "ipython",
    "version": 3
   },
   "file_extension": ".py",
   "mimetype": "text/x-python",
   "name": "python",
   "nbconvert_exporter": "python",
   "pygments_lexer": "ipython3",
   "version": "3.7.0"
  }
 },
 "nbformat": 4,
 "nbformat_minor": 2
}
